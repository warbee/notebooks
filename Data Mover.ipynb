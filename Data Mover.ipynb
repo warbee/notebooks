{
 "metadata": {
  "name": "",
  "signature": "sha256:9ab329f26e25d7f3671e590d8820d76b5631d44e0f11a73edbbcce49ace76f93"
 },
 "nbformat": 3,
 "nbformat_minor": 0,
 "worksheets": [
  {
   "cells": [
    {
     "cell_type": "code",
     "collapsed": true,
     "input": [
      "import csv\n",
      "import MySQLdb as m\n",
      "import os\n",
      "\n",
      "DB_USER = os.environ['DB_USER']\n",
      "DB_PW = os.environ['DB_PW']\n",
      "DB_HOST = os.environ['DB_HOST']\n",
      "DATABASE = 'sandbox'\n",
      "\n",
      "def dbConnect():\n",
      "    try:\n",
      "        conn = m.connect(host=DB_HOST,\n",
      "                         user=DB_USER,\n",
      "                         passwd=DB_PW,\n",
      "                         db=DATABASE)\n",
      "        return conn\n",
      "    except Exception as e:\n",
      "        print(\"Error: \", e)\n",
      "        return False\n",
      "    \n",
      "\n",
      "def insertInventory(data):\n",
      "    conn = dbConnect()\n",
      "    query = \"\"\"insert into housing (state, date, inventory) values (%s, %s, %s)\"\"\"\n",
      "    curs = conn.cursor()\n",
      "    \n",
      "    ers = 0\n",
      "    for d in data:\n",
      "        try:\n",
      "            curs.execute(query, (d[0], d[1], d[2]))\n",
      "        except Exception as e:\n",
      "            print(\"Error inserting record: \", d)\n",
      "            print(\"Error: \", e)\n",
      "            ers += 1\n",
      "    conn.commit()\n",
      "    conn.close()\n",
      "    return ers\n",
      "\n",
      "    \n",
      "def getInventory():\n",
      "    ret = []\n",
      "    with open('state_inventory.csv', 'rb') as csvfile:\n",
      "        inventory = csv.reader(csvfile, delimiter=',')\n",
      "        for row in inventory:\n",
      "            ret.append(row)\n",
      "    return ret\n",
      "\n",
      "\n",
      "def transformInventory(data):\n",
      "    newData = []\n",
      "    headerData = []\n",
      "    rec = []\n",
      "    \n",
      "    c = 0\n",
      "    for d in data:\n",
      "        if c == 0:\n",
      "            headerData = d[4:]\n",
      "            c += 1\n",
      "        else:\n",
      "            sc = 0\n",
      "            for v in d[4:]:\n",
      "                rec = [d[0], headerData[sc]+'-01', v]\n",
      "                sc += 1\n",
      "                newData.append(rec)\n",
      "    return newData\n",
      "\n",
      "\n",
      "def moveInventory():\n",
      "    data = getInventory()\n",
      "    newData = transformInventory(data)\n",
      "    errors = insertInventory(newData)\n",
      "    print(\"Finished inserting records with \" + str(errors) + \" errors.\")\n",
      "    "
     ],
     "language": "python",
     "metadata": {},
     "outputs": [],
     "prompt_number": 43
    },
    {
     "cell_type": "code",
     "collapsed": true,
     "input": [
      "moveInventory()"
     ],
     "language": "python",
     "metadata": {},
     "outputs": [
      {
       "output_type": "stream",
       "stream": "stdout",
       "text": [
        "Finished inserting records with 0 errors.\n"
       ]
      }
     ],
     "prompt_number": 42
    },
    {
     "cell_type": "code",
     "collapsed": false,
     "input": [],
     "language": "python",
     "metadata": {},
     "outputs": []
    }
   ],
   "metadata": {}
  }
 ]
}