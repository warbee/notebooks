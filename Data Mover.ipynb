{
 "metadata": {
  "name": "",
  "signature": "sha256:f82cc10e879dd6d323bdcc0759b9aebb62f59f46996f87f4bb213735e18f3a0b"
 },
 "nbformat": 3,
 "nbformat_minor": 0,
 "worksheets": [
  {
   "cells": [
    {
     "cell_type": "code",
     "collapsed": true,
     "input": [
      "import csv\n",
      "import MySQLdb as m\n",
      "import os\n",
      "\n",
      "DB_USER = os.environ['DB_USER']\n",
      "DB_PW = os.environ['DB_PW']\n",
      "DB_HOST = os.environ['DB_HOST']\n",
      "DATABASE = 'sandbox'\n",
      "\n",
      "def dbConnect():\n",
      "    try:\n",
      "        conn = m.connect(host=DB_HOST,\n",
      "                         user=DB_USER,\n",
      "                         passwd=DB_PW,\n",
      "                         db=DATABASE)\n",
      "        return conn\n",
      "    except Exception as e:\n",
      "        print(\"Error: \", e)\n",
      "        return False\n",
      "    \n",
      "\n",
      "def insertInventory(data):\n",
      "    conn = dbConnect()\n",
      "    query = \"\"\"insert into price_rent_ratio \n",
      "                   (region_id, state, size_rank, date, ratio) \n",
      "               values (%s, %s, %s, %s, %s)\"\"\"\n",
      "    \n",
      "    curs = conn.cursor()\n",
      "    \n",
      "    ers = 0\n",
      "    for d in data:\n",
      "        try:\n",
      "            ratio = 0 if len(d[4]) == 0 else d[4]\n",
      "            curs.execute(query, (d[0], d[1], d[2], d[3], ratio))\n",
      "        except Exception as e:\n",
      "            print(\"Error inserting record: \", d)\n",
      "            print(\"Error: \", e)\n",
      "            ers += 1\n",
      "    conn.commit()\n",
      "    conn.close()\n",
      "    return ers\n",
      "\n",
      "    \n",
      "def getInventory():\n",
      "    ret = []\n",
      "    with open('state_price_ratio.csv', 'rb') as csvfile:\n",
      "        inventory = csv.reader(csvfile, delimiter=',')\n",
      "        c = 0\n",
      "        for row in inventory:\n",
      "            if c < 5:\n",
      "                ret.append(row)\n",
      "            else:\n",
      "                break\n",
      "    return ret\n",
      "\n",
      "\n",
      "def transformInventory(data):\n",
      "    newData = []\n",
      "    headerData = []\n",
      "    rec = []\n",
      "    \n",
      "    c = 0\n",
      "    for d in data:\n",
      "        if c == 0:\n",
      "            headerData = d[3:]\n",
      "            c += 1\n",
      "        else:\n",
      "            sc = 0\n",
      "            for v in d[3:]:\n",
      "                rec = [d[0], d[1], d[2], headerData[sc]+'-01', v]\n",
      "                sc += 1\n",
      "                newData.append(rec)\n",
      "    return newData\n",
      "\n",
      "\n",
      "def moveInventory():\n",
      "    data = getInventory()\n",
      "    newData = transformInventory(data)\n",
      "    errors = insertInventory(newData)\n",
      "    print(\"Finished inserting records with \" + str(errors) + \" errors.\")\n",
      "    "
     ],
     "language": "python",
     "metadata": {},
     "outputs": [],
     "prompt_number": 72
    },
    {
     "cell_type": "code",
     "collapsed": true,
     "input": [
      "moveInventory()"
     ],
     "language": "python",
     "metadata": {},
     "outputs": [
      {
       "output_type": "stream",
       "stream": "stdout",
       "text": [
        "Finished inserting records with 0 errors.\n"
       ]
      }
     ],
     "prompt_number": 73
    },
    {
     "cell_type": "code",
     "collapsed": false,
     "input": [],
     "language": "python",
     "metadata": {},
     "outputs": []
    }
   ],
   "metadata": {}
  }
 ]
}